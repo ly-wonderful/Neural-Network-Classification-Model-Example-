{
 "cells": [
  {
   "cell_type": "code",
   "execution_count": 1,
   "id": "02f4d4cf-9628-4c7c-abe3-d67f8f8bdd30",
   "metadata": {},
   "outputs": [],
   "source": [
    "import numpy as np\n",
    "import pandas as pd\n",
    "import matplotlib.pyplot as plt\n",
    "import torch\n",
    "import torch.nn as nn\n",
    "import torch.optim as optim\n",
    "# from torch.utils.data import DataLoader, TensorDataset\n",
    "from sklearn.preprocessing import LabelEncoder\n",
    "from sklearn.model_selection import train_test_split\n"
   ]
  },
  {
   "cell_type": "markdown",
   "id": "ab4b11bf-7e27-48f5-9b88-d695a0e44869",
   "metadata": {},
   "source": [
    "### 1. Load data and split event / non-event in order to handle imbalanced data"
   ]
  },
  {
   "cell_type": "markdown",
   "id": "356b0e6f-7cc4-47ce-824a-8752afcc507b",
   "metadata": {},
   "source": [
    "#### 1.1 Load data "
   ]
  },
  {
   "cell_type": "code",
   "execution_count": 2,
   "id": "58ba62f3-ff1b-41f4-af77-e3bb16ef3dfd",
   "metadata": {},
   "outputs": [
    {
     "data": {
      "text/html": [
       "<div>\n",
       "<style scoped>\n",
       "    .dataframe tbody tr th:only-of-type {\n",
       "        vertical-align: middle;\n",
       "    }\n",
       "\n",
       "    .dataframe tbody tr th {\n",
       "        vertical-align: top;\n",
       "    }\n",
       "\n",
       "    .dataframe thead th {\n",
       "        text-align: right;\n",
       "    }\n",
       "</style>\n",
       "<table border=\"1\" class=\"dataframe\">\n",
       "  <thead>\n",
       "    <tr style=\"text-align: right;\">\n",
       "      <th></th>\n",
       "      <th>id</th>\n",
       "      <th>member_id</th>\n",
       "      <th>loan_amnt</th>\n",
       "      <th>emp_length</th>\n",
       "      <th>home_ownership</th>\n",
       "      <th>annual_inc</th>\n",
       "      <th>desc</th>\n",
       "      <th>purpose</th>\n",
       "      <th>dti</th>\n",
       "      <th>inq_last_6mths</th>\n",
       "      <th>...</th>\n",
       "      <th>total_bc_limit</th>\n",
       "      <th>mths_since_last_major_derog</th>\n",
       "      <th>tot_hi_cred_lim</th>\n",
       "      <th>tot_cur_bal</th>\n",
       "      <th>revol_util_nb_fixed</th>\n",
       "      <th>loan_amnt_log</th>\n",
       "      <th>annual_inc_log</th>\n",
       "      <th>total_bc_limit_log</th>\n",
       "      <th>tot_hi_cred_lim_log</th>\n",
       "      <th>tot_cur_bal_log</th>\n",
       "    </tr>\n",
       "  </thead>\n",
       "  <tbody>\n",
       "    <tr>\n",
       "      <th>0</th>\n",
       "      <td>10000001</td>\n",
       "      <td>11983056</td>\n",
       "      <td>7550</td>\n",
       "      <td>3 years</td>\n",
       "      <td>RENT</td>\n",
       "      <td>28000.0</td>\n",
       "      <td>NaN</td>\n",
       "      <td>debt_consolidation</td>\n",
       "      <td>8.40</td>\n",
       "      <td>0.0</td>\n",
       "      <td>...</td>\n",
       "      <td>4000.0</td>\n",
       "      <td>41.792473</td>\n",
       "      <td>3828.953801</td>\n",
       "      <td>5759.0</td>\n",
       "      <td>9600.0</td>\n",
       "      <td>8.929303</td>\n",
       "      <td>10.239960</td>\n",
       "      <td>8.294050</td>\n",
       "      <td>8.250347</td>\n",
       "      <td>8.658519</td>\n",
       "    </tr>\n",
       "    <tr>\n",
       "      <th>1</th>\n",
       "      <td>10000002</td>\n",
       "      <td>12002921</td>\n",
       "      <td>27050</td>\n",
       "      <td>10+ years</td>\n",
       "      <td>OWN</td>\n",
       "      <td>55000.0</td>\n",
       "      <td>Borrower added on 12/31/13 &gt; Combining high ...</td>\n",
       "      <td>debt_consolidation</td>\n",
       "      <td>22.87</td>\n",
       "      <td>0.0</td>\n",
       "      <td>...</td>\n",
       "      <td>35700.0</td>\n",
       "      <td>41.792473</td>\n",
       "      <td>34359.940730</td>\n",
       "      <td>114834.0</td>\n",
       "      <td>5390.0</td>\n",
       "      <td>10.205442</td>\n",
       "      <td>10.915088</td>\n",
       "      <td>10.482906</td>\n",
       "      <td>10.444647</td>\n",
       "      <td>11.651243</td>\n",
       "    </tr>\n",
       "    <tr>\n",
       "      <th>2</th>\n",
       "      <td>10000003</td>\n",
       "      <td>11983096</td>\n",
       "      <td>12000</td>\n",
       "      <td>4 years</td>\n",
       "      <td>RENT</td>\n",
       "      <td>60000.0</td>\n",
       "      <td>Borrower added on 12/31/13 &gt; I would like to...</td>\n",
       "      <td>debt_consolidation</td>\n",
       "      <td>4.62</td>\n",
       "      <td>1.0</td>\n",
       "      <td>...</td>\n",
       "      <td>18100.0</td>\n",
       "      <td>41.792473</td>\n",
       "      <td>16416.617760</td>\n",
       "      <td>7137.0</td>\n",
       "      <td>1590.0</td>\n",
       "      <td>9.392662</td>\n",
       "      <td>11.002100</td>\n",
       "      <td>9.803667</td>\n",
       "      <td>9.706049</td>\n",
       "      <td>8.873048</td>\n",
       "    </tr>\n",
       "    <tr>\n",
       "      <th>3</th>\n",
       "      <td>10000004</td>\n",
       "      <td>12003142</td>\n",
       "      <td>28000</td>\n",
       "      <td>5 years</td>\n",
       "      <td>MORTGAGE</td>\n",
       "      <td>325000.0</td>\n",
       "      <td>NaN</td>\n",
       "      <td>debt_consolidation</td>\n",
       "      <td>18.55</td>\n",
       "      <td>1.0</td>\n",
       "      <td>...</td>\n",
       "      <td>42200.0</td>\n",
       "      <td>41.792473</td>\n",
       "      <td>38014.149760</td>\n",
       "      <td>799592.0</td>\n",
       "      <td>6710.0</td>\n",
       "      <td>10.239960</td>\n",
       "      <td>12.691580</td>\n",
       "      <td>10.650176</td>\n",
       "      <td>10.545714</td>\n",
       "      <td>13.591857</td>\n",
       "    </tr>\n",
       "    <tr>\n",
       "      <th>4</th>\n",
       "      <td>10000005</td>\n",
       "      <td>11993233</td>\n",
       "      <td>12000</td>\n",
       "      <td>10+ years</td>\n",
       "      <td>RENT</td>\n",
       "      <td>40000.0</td>\n",
       "      <td>NaN</td>\n",
       "      <td>debt_consolidation</td>\n",
       "      <td>16.94</td>\n",
       "      <td>0.0</td>\n",
       "      <td>...</td>\n",
       "      <td>7000.0</td>\n",
       "      <td>53.000000</td>\n",
       "      <td>6471.462236</td>\n",
       "      <td>13605.0</td>\n",
       "      <td>7960.0</td>\n",
       "      <td>9.392662</td>\n",
       "      <td>10.596635</td>\n",
       "      <td>8.853665</td>\n",
       "      <td>8.775157</td>\n",
       "      <td>9.518193</td>\n",
       "    </tr>\n",
       "  </tbody>\n",
       "</table>\n",
       "<p>5 rows × 27 columns</p>\n",
       "</div>"
      ],
      "text/plain": [
       "         id member_id  loan_amnt emp_length home_ownership  annual_inc  \\\n",
       "0  10000001  11983056       7550    3 years           RENT     28000.0   \n",
       "1  10000002  12002921      27050  10+ years            OWN     55000.0   \n",
       "2  10000003  11983096      12000    4 years           RENT     60000.0   \n",
       "3  10000004  12003142      28000    5 years       MORTGAGE    325000.0   \n",
       "4  10000005  11993233      12000  10+ years           RENT     40000.0   \n",
       "\n",
       "                                                desc             purpose  \\\n",
       "0                                                NaN  debt_consolidation   \n",
       "1    Borrower added on 12/31/13 > Combining high ...  debt_consolidation   \n",
       "2    Borrower added on 12/31/13 > I would like to...  debt_consolidation   \n",
       "3                                                NaN  debt_consolidation   \n",
       "4                                                NaN  debt_consolidation   \n",
       "\n",
       "     dti  inq_last_6mths  ...  total_bc_limit  mths_since_last_major_derog  \\\n",
       "0   8.40             0.0  ...          4000.0                    41.792473   \n",
       "1  22.87             0.0  ...         35700.0                    41.792473   \n",
       "2   4.62             1.0  ...         18100.0                    41.792473   \n",
       "3  18.55             1.0  ...         42200.0                    41.792473   \n",
       "4  16.94             0.0  ...          7000.0                    53.000000   \n",
       "\n",
       "   tot_hi_cred_lim  tot_cur_bal  revol_util_nb_fixed  loan_amnt_log  \\\n",
       "0      3828.953801       5759.0               9600.0       8.929303   \n",
       "1     34359.940730     114834.0               5390.0      10.205442   \n",
       "2     16416.617760       7137.0               1590.0       9.392662   \n",
       "3     38014.149760     799592.0               6710.0      10.239960   \n",
       "4      6471.462236      13605.0               7960.0       9.392662   \n",
       "\n",
       "   annual_inc_log  total_bc_limit_log  tot_hi_cred_lim_log  tot_cur_bal_log  \n",
       "0       10.239960            8.294050             8.250347         8.658519  \n",
       "1       10.915088           10.482906            10.444647        11.651243  \n",
       "2       11.002100            9.803667             9.706049         8.873048  \n",
       "3       12.691580           10.650176            10.545714        13.591857  \n",
       "4       10.596635            8.853665             8.775157         9.518193  \n",
       "\n",
       "[5 rows x 27 columns]"
      ]
     },
     "execution_count": 2,
     "metadata": {},
     "output_type": "execute_result"
    }
   ],
   "source": [
    "df_clean = pd.read_csv('clean_training_data.csv',\n",
    "                 converters={'id': str, \n",
    "                             'member_id': str})\n",
    "df_clean.head()"
   ]
  },
  {
   "cell_type": "markdown",
   "id": "880a253c-51c2-4225-810a-fe25a5a5cbc1",
   "metadata": {},
   "source": [
    "#### 1.2 Split Event / Non-Event "
   ]
  },
  {
   "cell_type": "code",
   "execution_count": 3,
   "id": "20c7771c-964d-4fff-9190-3e1a95313b5c",
   "metadata": {},
   "outputs": [
    {
     "data": {
      "text/plain": [
       "(13128, 174995)"
      ]
     },
     "execution_count": 3,
     "metadata": {},
     "output_type": "execute_result"
    }
   ],
   "source": [
    "df_event = df_clean.loc[df_clean['bad_flag'] == 1].copy()\n",
    "df_nonevent = df_clean.loc[df_clean['bad_flag'] != 1].copy()\n",
    "len(df_event), len(df_nonevent)"
   ]
  },
  {
   "cell_type": "markdown",
   "id": "4585b335-717b-436d-a4e3-800293bf9bf3",
   "metadata": {},
   "source": [
    "#### 1.3 Bootstrap rare samples to make a balanced data set"
   ]
  },
  {
   "cell_type": "code",
   "execution_count": 4,
   "id": "fd62cc81-8314-4bad-8b12-2c10c308a59c",
   "metadata": {},
   "outputs": [],
   "source": [
    "bootstrap_samples = []\n",
    "for _ in range(27):\n",
    "    sample = df_event.sample(frac=0.5, replace=True, random_state=44)\n",
    "    bootstrap_samples.append(sample)\n",
    "\n",
    "df_event_up = pd.concat(bootstrap_samples)"
   ]
  },
  {
   "cell_type": "code",
   "execution_count": 5,
   "id": "ceb17d0e-2c7b-4d6b-898d-0f4a795fce5d",
   "metadata": {},
   "outputs": [
    {
     "data": {
      "text/plain": [
       "bad_flag\n",
       "1.0    177228\n",
       "0.0    174995\n",
       "Name: count, dtype: int64"
      ]
     },
     "execution_count": 5,
     "metadata": {},
     "output_type": "execute_result"
    }
   ],
   "source": [
    "df = pd.concat([df_nonevent, df_event_up], ignore_index=True)\n",
    "df.bad_flag.value_counts()"
   ]
  },
  {
   "cell_type": "markdown",
   "id": "82f19e10-6f6a-4fdc-adc3-3d2380627b5d",
   "metadata": {},
   "source": [
    "### 2. Engineer New Features\n",
    "Findings / Summary:\n",
    "* This is the fun part. It takes time and innovation to engineer useful features. For illustration purpose, I did 3 examples as follows.\n",
    "    * Encoding categorical variables\n",
    "    * Creating interactive variables\n",
    "    * Binning"
   ]
  },
  {
   "cell_type": "markdown",
   "id": "60b2b650-5b11-4d7c-a07a-265baa643ae2",
   "metadata": {},
   "source": [
    "#### 2.1 Encode categorical variables"
   ]
  },
  {
   "cell_type": "code",
   "execution_count": 6,
   "id": "58c07327-4ec7-453a-a832-7dff26d5735d",
   "metadata": {},
   "outputs": [
    {
     "name": "stdout",
     "output_type": "stream",
     "text": [
      "--- Encoding emp_length ---\n",
      "emp_length_encoded\n",
      "1     109674\n",
      "2      30572\n",
      "5      27138\n",
      "10     27021\n",
      "3      25846\n",
      "4      22724\n",
      "6      22476\n",
      "0      21365\n",
      "7      20027\n",
      "8      16443\n",
      "11     15644\n",
      "9      13293\n",
      "Name: count, dtype: int64\n",
      "--- Encoding home_ownership ---\n",
      "home_ownership_encoded\n",
      "0    166831\n",
      "4    156289\n",
      "3     28889\n",
      "1       119\n",
      "2        95\n",
      "Name: count, dtype: int64\n",
      "--- Encoding purpose ---\n",
      "purpose_encoded\n",
      "2     210788\n",
      "1      70938\n",
      "8      20868\n",
      "3      17251\n",
      "10      8432\n",
      "5       6839\n",
      "0       3658\n",
      "6       3444\n",
      "12      2884\n",
      "4       2669\n",
      "7       2387\n",
      "11      1773\n",
      "9        292\n",
      "Name: count, dtype: int64\n"
     ]
    }
   ],
   "source": [
    "# Encode categorical variables\n",
    "# Initialize the LabelEncoder\n",
    "label_encoder = LabelEncoder()\n",
    "\n",
    "categorical_vars = ['emp_length', 'home_ownership', 'purpose']\n",
    "# Encode the categorical variable\n",
    "for v in categorical_vars:\n",
    "    print(f\"--- Encoding {v} ---\")\n",
    "    df[v + '_encoded'] = label_encoder.fit_transform(df[v])\n",
    "    print(df[v + '_encoded'].value_counts())"
   ]
  },
  {
   "cell_type": "markdown",
   "id": "4772506a-c1d9-44d0-a4af-442f01b490fd",
   "metadata": {},
   "source": [
    "#### 2.2  Create interactive variable"
   ]
  },
  {
   "cell_type": "code",
   "execution_count": 7,
   "id": "62842f3d-d91f-4c1e-8089-aac7693e49da",
   "metadata": {},
   "outputs": [],
   "source": [
    "# for example: \n",
    "df['bc_util_fixed_X_revol_util_nb_fixed'] = df['bc_util_fixed'] * df['revol_util_nb_fixed']"
   ]
  },
  {
   "cell_type": "markdown",
   "id": "dd11e4aa-2e8b-4edc-bc48-b54ceab19637",
   "metadata": {},
   "source": [
    "#### 2.3 Binning"
   ]
  },
  {
   "cell_type": "code",
   "execution_count": 8,
   "id": "a5e51213-7d05-471e-b3d4-32d5bd87bffa",
   "metadata": {},
   "outputs": [],
   "source": [
    "# create bins for annual_inc based off 3 quartiles\n",
    "q1 = df['annual_inc'].quantile(0.25)\n",
    "q2 = df['annual_inc'].quantile(0.5)\n",
    "q3 = df['annual_inc'].quantile(0.75)\n",
    "\n",
    "c1 = df['annual_inc'] < q1\n",
    "c2 = (df['annual_inc'] >= q1) & (df['annual_inc'] < q2)\n",
    "c3 = (df['annual_inc'] >= q2) & (df['annual_inc'] < q3)\n",
    "c4 = df['annual_inc'] >= q3\n",
    "\n",
    "df['annual_inc_binned'] = np.select([c1, c2, c3, c4], [1, 2, 3, 4], default=0.0)\n"
   ]
  },
  {
   "cell_type": "code",
   "execution_count": 9,
   "id": "94ac09d3-a0c6-478e-9d84-18c27f948763",
   "metadata": {},
   "outputs": [
    {
     "data": {
      "text/plain": [
       "annual_inc_binned\n",
       "1.0    0.579547\n",
       "2.0    0.535462\n",
       "3.0    0.471842\n",
       "4.0    0.427088\n",
       "Name: bad_flag, dtype: float64"
      ]
     },
     "execution_count": 9,
     "metadata": {},
     "output_type": "execute_result"
    }
   ],
   "source": [
    "# Let's look at the bad rate of each bin -> looks like lower income borrowers have higher probability to default at their loans.\n",
    "df.groupby(['annual_inc_binned'])['bad_flag'].sum() / df.groupby(['annual_inc_binned'])['bad_flag'].count()"
   ]
  },
  {
   "cell_type": "code",
   "execution_count": 10,
   "id": "b4d9bde2-ee59-4ed4-b30b-80233c2fde71",
   "metadata": {},
   "outputs": [],
   "source": [
    "# output dataset\n",
    "df.to_csv('df_balanced_with_new_features.csv', index=False)"
   ]
  }
 ],
 "metadata": {
  "kernelspec": {
   "display_name": "Python 3 (ipykernel)",
   "language": "python",
   "name": "python3"
  },
  "language_info": {
   "codemirror_mode": {
    "name": "ipython",
    "version": 3
   },
   "file_extension": ".py",
   "mimetype": "text/x-python",
   "name": "python",
   "nbconvert_exporter": "python",
   "pygments_lexer": "ipython3",
   "version": "3.12.8"
  }
 },
 "nbformat": 4,
 "nbformat_minor": 5
}
