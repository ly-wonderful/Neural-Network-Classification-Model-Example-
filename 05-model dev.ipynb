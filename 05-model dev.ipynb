{
 "cells": [
  {
   "cell_type": "code",
   "execution_count": 1,
   "id": "02f4d4cf-9628-4c7c-abe3-d67f8f8bdd30",
   "metadata": {},
   "outputs": [],
   "source": [
    "import numpy as np\n",
    "import pandas as pd\n",
    "import matplotlib.pyplot as plt\n",
    "import torch\n",
    "import torch.nn as nn\n",
    "import torch.optim as optim\n",
    "# from torch.utils.data import DataLoader, TensorDataset\n",
    "from sklearn.preprocessing import LabelEncoder\n",
    "from sklearn.model_selection import train_test_split\n"
   ]
  },
  {
   "cell_type": "markdown",
   "id": "1b7d0007-3aa7-484b-9088-08e010fb95be",
   "metadata": {},
   "source": [
    "### Load data from previous step"
   ]
  },
  {
   "cell_type": "code",
   "execution_count": 2,
   "id": "7295914f-84e4-4dc4-b826-be136e31a01b",
   "metadata": {},
   "outputs": [
    {
     "data": {
      "text/html": [
       "<div>\n",
       "<style scoped>\n",
       "    .dataframe tbody tr th:only-of-type {\n",
       "        vertical-align: middle;\n",
       "    }\n",
       "\n",
       "    .dataframe tbody tr th {\n",
       "        vertical-align: top;\n",
       "    }\n",
       "\n",
       "    .dataframe thead th {\n",
       "        text-align: right;\n",
       "    }\n",
       "</style>\n",
       "<table border=\"1\" class=\"dataframe\">\n",
       "  <thead>\n",
       "    <tr style=\"text-align: right;\">\n",
       "      <th></th>\n",
       "      <th>id</th>\n",
       "      <th>member_id</th>\n",
       "      <th>loan_amnt</th>\n",
       "      <th>emp_length</th>\n",
       "      <th>home_ownership</th>\n",
       "      <th>annual_inc</th>\n",
       "      <th>desc</th>\n",
       "      <th>purpose</th>\n",
       "      <th>dti</th>\n",
       "      <th>inq_last_6mths</th>\n",
       "      <th>...</th>\n",
       "      <th>loan_amnt_log</th>\n",
       "      <th>annual_inc_log</th>\n",
       "      <th>total_bc_limit_log</th>\n",
       "      <th>tot_hi_cred_lim_log</th>\n",
       "      <th>tot_cur_bal_log</th>\n",
       "      <th>emp_length_encoded</th>\n",
       "      <th>home_ownership_encoded</th>\n",
       "      <th>purpose_encoded</th>\n",
       "      <th>bc_util_fixed_X_revol_util_nb_fixed</th>\n",
       "      <th>annual_inc_binned</th>\n",
       "    </tr>\n",
       "  </thead>\n",
       "  <tbody>\n",
       "    <tr>\n",
       "      <th>0</th>\n",
       "      <td>10000001</td>\n",
       "      <td>11983056</td>\n",
       "      <td>7550</td>\n",
       "      <td>3 years</td>\n",
       "      <td>RENT</td>\n",
       "      <td>28000.0</td>\n",
       "      <td>NaN</td>\n",
       "      <td>debt_consolidation</td>\n",
       "      <td>8.40</td>\n",
       "      <td>0.0</td>\n",
       "      <td>...</td>\n",
       "      <td>8.929303</td>\n",
       "      <td>10.239960</td>\n",
       "      <td>8.294050</td>\n",
       "      <td>8.250347</td>\n",
       "      <td>8.658519</td>\n",
       "      <td>3</td>\n",
       "      <td>4</td>\n",
       "      <td>2</td>\n",
       "      <td>921600.0</td>\n",
       "      <td>1.0</td>\n",
       "    </tr>\n",
       "    <tr>\n",
       "      <th>1</th>\n",
       "      <td>10000002</td>\n",
       "      <td>12002921</td>\n",
       "      <td>27050</td>\n",
       "      <td>10+ years</td>\n",
       "      <td>OWN</td>\n",
       "      <td>55000.0</td>\n",
       "      <td>Borrower added on 12/31/13 &gt; Combining high ...</td>\n",
       "      <td>debt_consolidation</td>\n",
       "      <td>22.87</td>\n",
       "      <td>0.0</td>\n",
       "      <td>...</td>\n",
       "      <td>10.205442</td>\n",
       "      <td>10.915088</td>\n",
       "      <td>10.482906</td>\n",
       "      <td>10.444647</td>\n",
       "      <td>11.651243</td>\n",
       "      <td>1</td>\n",
       "      <td>3</td>\n",
       "      <td>2</td>\n",
       "      <td>290521.0</td>\n",
       "      <td>2.0</td>\n",
       "    </tr>\n",
       "    <tr>\n",
       "      <th>2</th>\n",
       "      <td>10000003</td>\n",
       "      <td>11983096</td>\n",
       "      <td>12000</td>\n",
       "      <td>4 years</td>\n",
       "      <td>RENT</td>\n",
       "      <td>60000.0</td>\n",
       "      <td>Borrower added on 12/31/13 &gt; I would like to...</td>\n",
       "      <td>debt_consolidation</td>\n",
       "      <td>4.62</td>\n",
       "      <td>1.0</td>\n",
       "      <td>...</td>\n",
       "      <td>9.392662</td>\n",
       "      <td>11.002100</td>\n",
       "      <td>9.803667</td>\n",
       "      <td>9.706049</td>\n",
       "      <td>8.873048</td>\n",
       "      <td>4</td>\n",
       "      <td>4</td>\n",
       "      <td>2</td>\n",
       "      <td>25281.0</td>\n",
       "      <td>3.0</td>\n",
       "    </tr>\n",
       "    <tr>\n",
       "      <th>3</th>\n",
       "      <td>10000004</td>\n",
       "      <td>12003142</td>\n",
       "      <td>28000</td>\n",
       "      <td>5 years</td>\n",
       "      <td>MORTGAGE</td>\n",
       "      <td>325000.0</td>\n",
       "      <td>NaN</td>\n",
       "      <td>debt_consolidation</td>\n",
       "      <td>18.55</td>\n",
       "      <td>1.0</td>\n",
       "      <td>...</td>\n",
       "      <td>10.239960</td>\n",
       "      <td>12.691580</td>\n",
       "      <td>10.650176</td>\n",
       "      <td>10.545714</td>\n",
       "      <td>13.591857</td>\n",
       "      <td>5</td>\n",
       "      <td>0</td>\n",
       "      <td>2</td>\n",
       "      <td>450241.0</td>\n",
       "      <td>4.0</td>\n",
       "    </tr>\n",
       "    <tr>\n",
       "      <th>4</th>\n",
       "      <td>10000005</td>\n",
       "      <td>11993233</td>\n",
       "      <td>12000</td>\n",
       "      <td>10+ years</td>\n",
       "      <td>RENT</td>\n",
       "      <td>40000.0</td>\n",
       "      <td>NaN</td>\n",
       "      <td>debt_consolidation</td>\n",
       "      <td>16.94</td>\n",
       "      <td>0.0</td>\n",
       "      <td>...</td>\n",
       "      <td>9.392662</td>\n",
       "      <td>10.596635</td>\n",
       "      <td>8.853665</td>\n",
       "      <td>8.775157</td>\n",
       "      <td>9.518193</td>\n",
       "      <td>1</td>\n",
       "      <td>4</td>\n",
       "      <td>2</td>\n",
       "      <td>633616.0</td>\n",
       "      <td>1.0</td>\n",
       "    </tr>\n",
       "  </tbody>\n",
       "</table>\n",
       "<p>5 rows × 32 columns</p>\n",
       "</div>"
      ],
      "text/plain": [
       "         id member_id  loan_amnt emp_length home_ownership  annual_inc  \\\n",
       "0  10000001  11983056       7550    3 years           RENT     28000.0   \n",
       "1  10000002  12002921      27050  10+ years            OWN     55000.0   \n",
       "2  10000003  11983096      12000    4 years           RENT     60000.0   \n",
       "3  10000004  12003142      28000    5 years       MORTGAGE    325000.0   \n",
       "4  10000005  11993233      12000  10+ years           RENT     40000.0   \n",
       "\n",
       "                                                desc             purpose  \\\n",
       "0                                                NaN  debt_consolidation   \n",
       "1    Borrower added on 12/31/13 > Combining high ...  debt_consolidation   \n",
       "2    Borrower added on 12/31/13 > I would like to...  debt_consolidation   \n",
       "3                                                NaN  debt_consolidation   \n",
       "4                                                NaN  debt_consolidation   \n",
       "\n",
       "     dti  inq_last_6mths  ...  loan_amnt_log  annual_inc_log  \\\n",
       "0   8.40             0.0  ...       8.929303       10.239960   \n",
       "1  22.87             0.0  ...      10.205442       10.915088   \n",
       "2   4.62             1.0  ...       9.392662       11.002100   \n",
       "3  18.55             1.0  ...      10.239960       12.691580   \n",
       "4  16.94             0.0  ...       9.392662       10.596635   \n",
       "\n",
       "   total_bc_limit_log  tot_hi_cred_lim_log  tot_cur_bal_log  \\\n",
       "0            8.294050             8.250347         8.658519   \n",
       "1           10.482906            10.444647        11.651243   \n",
       "2            9.803667             9.706049         8.873048   \n",
       "3           10.650176            10.545714        13.591857   \n",
       "4            8.853665             8.775157         9.518193   \n",
       "\n",
       "   emp_length_encoded  home_ownership_encoded  purpose_encoded  \\\n",
       "0                   3                       4                2   \n",
       "1                   1                       3                2   \n",
       "2                   4                       4                2   \n",
       "3                   5                       0                2   \n",
       "4                   1                       4                2   \n",
       "\n",
       "   bc_util_fixed_X_revol_util_nb_fixed  annual_inc_binned  \n",
       "0                             921600.0                1.0  \n",
       "1                             290521.0                2.0  \n",
       "2                              25281.0                3.0  \n",
       "3                             450241.0                4.0  \n",
       "4                             633616.0                1.0  \n",
       "\n",
       "[5 rows x 32 columns]"
      ]
     },
     "execution_count": 2,
     "metadata": {},
     "output_type": "execute_result"
    }
   ],
   "source": [
    "df = pd.read_csv('df_balanced_with_new_features.csv',\n",
    "                 converters={'id': str, \n",
    "                             'member_id': str})\n",
    "df.head()"
   ]
  },
  {
   "cell_type": "markdown",
   "id": "a4a68842-38d0-4b9b-8615-902cb8053503",
   "metadata": {},
   "source": [
    "### 3. Model Development"
   ]
  },
  {
   "cell_type": "markdown",
   "id": "183eb012-0381-4a66-b58b-294b45243428",
   "metadata": {},
   "source": [
    "#### 3.1 Use LASSO to select variables"
   ]
  },
  {
   "cell_type": "code",
   "execution_count": 3,
   "id": "05395951-d61b-41cd-ac8f-f32c2755d718",
   "metadata": {},
   "outputs": [
    {
     "name": "stdout",
     "output_type": "stream",
     "text": [
      "Selected variables: ['loan_amnt', 'annual_inc', 'dti', 'term_nb', 'percent_bc_gt_75', 'mths_since_recent_inq', 'total_bc_limit', 'tot_hi_cred_lim', 'tot_cur_bal', 'revol_util_nb_fixed', 'purpose_encoded', 'bc_util_fixed_X_revol_util_nb_fixed']\n"
     ]
    }
   ],
   "source": [
    "from sklearn.linear_model import Lasso\n",
    "x_vars = ['loan_amnt', 'annual_inc', 'dti', 'inq_last_6mths', 'internal_score',\n",
    "        'term_nb', 'int_rate_nb', 'percent_bc_gt_75',\n",
    "       'bc_util_fixed', 'mths_since_recent_inq', 'total_bc_limit',\n",
    "       'mths_since_last_major_derog', 'tot_hi_cred_lim', 'tot_cur_bal',\n",
    "       'revol_util_nb_fixed', 'loan_amnt_log', 'annual_inc_log',\n",
    "       'total_bc_limit_log', 'tot_hi_cred_lim_log', 'tot_cur_bal_log',\n",
    "       'emp_length_encoded', 'home_ownership_encoded', 'purpose_encoded', 'bc_util_fixed_X_revol_util_nb_fixed', 'annual_inc_binned']\n",
    "X_train, X_test, y_train, y_test = train_test_split(df[x_vars], df['bad_flag'], train_size=0.8, random_state=42)\n",
    "# Initialize and fit the Lasso model\n",
    "lasso = Lasso(alpha=0.1)\n",
    "lasso.fit(X_train, y_train)\n",
    "\n",
    "# Get the coefficients of the features\n",
    "lasso_coefficients = pd.Series(lasso.coef_, index=X_train.columns)\n",
    "\n",
    "# Select the variables with non-zero coefficients\n",
    "selected_variables = lasso_coefficients[lasso_coefficients != 0].index.tolist()\n",
    "\n",
    "print(\"Selected variables:\", selected_variables)"
   ]
  },
  {
   "cell_type": "markdown",
   "id": "8e51a6b7-eb60-488a-af60-da5b6410b89c",
   "metadata": {},
   "source": [
    "#### 3.2 Keep only selected variables and convert Pandas DataFrame to Tensor"
   ]
  },
  {
   "cell_type": "code",
   "execution_count": 4,
   "id": "e0a08b86-f7d2-46da-b7d2-1517d5dd428d",
   "metadata": {},
   "outputs": [],
   "source": [
    "X_raw = torch.from_numpy(df[selected_variables].values).type(torch.float32)\n",
    "y = torch.from_numpy(df['bad_flag'].values).type(torch.float32)"
   ]
  },
  {
   "cell_type": "markdown",
   "id": "000ebfda-158d-4239-a385-6f240851aa05",
   "metadata": {},
   "source": [
    "#### 3.3 Standardization "
   ]
  },
  {
   "cell_type": "code",
   "execution_count": 5,
   "id": "8e4f8ec7-551f-4c9a-8c00-eef1ac1cef53",
   "metadata": {},
   "outputs": [
    {
     "data": {
      "text/plain": [
       "(torch.Size([352223, 12]), torch.Size([352223]))"
      ]
     },
     "execution_count": 5,
     "metadata": {},
     "output_type": "execute_result"
    }
   ],
   "source": [
    "means = X_raw.mean(dim=0)\n",
    "stds = X_raw.std(dim=0)\n",
    "\n",
    "X_std = (X_raw - means) / stds\n",
    "X_std.shape, y.shape"
   ]
  },
  {
   "cell_type": "markdown",
   "id": "06b35478-6828-46eb-9203-a37c1c6eef91",
   "metadata": {},
   "source": [
    "#### 3.4 Split train / test datasets"
   ]
  },
  {
   "cell_type": "code",
   "execution_count": 6,
   "id": "d6bfa924-4bb1-4f25-ada0-975bc6c8f67c",
   "metadata": {},
   "outputs": [
    {
     "name": "stdout",
     "output_type": "stream",
     "text": [
      "\n",
      "Training data:\n",
      "torch.Size([281778, 12]) torch.Size([281778])\n",
      "\n",
      "Test data:\n",
      "torch.Size([70445, 12]) torch.Size([70445])\n"
     ]
    }
   ],
   "source": [
    "X_train, X_test, y_train, y_test = train_test_split(X_std, y, train_size=0.8, random_state=42)\n",
    "print(\"\\nTraining data:\")\n",
    "print(X_train.shape, y_train.shape)\n",
    "    \n",
    "print(\"\\nTest data:\")\n",
    "print(X_test.shape, y_test.shape)"
   ]
  },
  {
   "cell_type": "markdown",
   "id": "49b1120e-d0cd-440f-a9b3-5b7c88b89432",
   "metadata": {},
   "source": [
    "#### 3.5 Create a model instant"
   ]
  },
  {
   "cell_type": "code",
   "execution_count": 7,
   "id": "c31565ce-a971-4e83-a0d0-55eef5a2fb74",
   "metadata": {},
   "outputs": [],
   "source": [
    "\n",
    "# Make device agnostic code\n",
    "device = \"cuda\" if torch.cuda.is_available() else \"cpu\"\n",
    "\n",
    "in_f = X_train.shape[1]\n",
    "\n",
    "# LoanModel = nn.Sequential(\n",
    "#     nn.Linear(in_features=in_f, out_features=neurions_L1),\n",
    "#     nn.Linear(in_features=neurions_L1, out_features=1), \n",
    "#     nn.ReLU()\n",
    "# ).to(device)\n",
    "\n",
    "class Net(nn.Module):\n",
    "    def __init__(self, in_f):\n",
    "        super().__init__()\n",
    "        self.layer_1 = nn.Linear(in_features=in_f, out_features=100)\n",
    "        self.layer_2 = nn.Linear(in_features=100, out_features=200)\n",
    "        self.layer_3 = nn.Linear(in_features=200, out_features=400)\n",
    "        self.layer_4 = nn.Linear(in_features=400, out_features=1)\n",
    "        self.relu = nn.ReLU() # <- add in ReLU activation function\n",
    "        # Can also put sigmoid in the model \n",
    "        # This would mean you don't need to use it on the predictions\n",
    "        # self.sigmoid = nn.Sigmoid()\n",
    "\n",
    "    def forward(self, x):\n",
    "      # Intersperse the ReLU activation function between layers\n",
    "       return self.layer_4(self.layer_3(self.relu(self.layer_2(self.relu(self.layer_1(x))))))\n",
    "\n",
    "LoanModel = Net(in_f).to(device)\n"
   ]
  },
  {
   "cell_type": "markdown",
   "id": "31165836-082c-4080-97d4-748e50551fab",
   "metadata": {},
   "source": [
    "#### 3.6 Define loss function, optimizer and accuracy-checking function"
   ]
  },
  {
   "cell_type": "code",
   "execution_count": 8,
   "id": "da654168-a6e3-4ab3-8960-dc7ebdbcc1ee",
   "metadata": {},
   "outputs": [],
   "source": [
    "# Create a loss function\n",
    "loss_fn = nn.BCELoss() \n",
    "\n",
    "# Create an optimizer\n",
    "optimizer = torch.optim.SGD(params=LoanModel.parameters(), \n",
    "                            lr=0.2)\n",
    "\n",
    "# Calculate accuracy (a classification metric)\n",
    "def accuracy_fn(y_true, y_pred):\n",
    "    correct = torch.eq(y_true, y_pred).sum().item()\n",
    "    acc = (correct / len(y_pred)) * 100 \n",
    "    return acc"
   ]
  },
  {
   "cell_type": "markdown",
   "id": "fb9a5c14-be06-455f-8a3d-48562ffd3ddc",
   "metadata": {},
   "source": [
    "#### 3.7 Train the model in the loop"
   ]
  },
  {
   "cell_type": "code",
   "execution_count": 9,
   "id": "e51027df-f192-4c70-ad53-7f0f932f0c9f",
   "metadata": {},
   "outputs": [
    {
     "name": "stdout",
     "output_type": "stream",
     "text": [
      "Epoch: 0 | Loss: 0.69281, Accuracy: 51.56% | Test loss: 0.69212, Test acc: 53.26%\n",
      "Epoch: 100 | Loss: 0.66332, Accuracy: 59.20% | Test loss: 0.66419, Test acc: 58.81%\n",
      "Epoch: 200 | Loss: 0.65872, Accuracy: 59.85% | Test loss: 0.65985, Test acc: 59.35%\n",
      "Epoch: 300 | Loss: 0.65548, Accuracy: 60.30% | Test loss: 0.65680, Test acc: 59.87%\n",
      "Epoch: 400 | Loss: 0.65263, Accuracy: 60.88% | Test loss: 0.65412, Test acc: 60.45%\n",
      "Epoch: 500 | Loss: 0.64994, Accuracy: 61.39% | Test loss: 0.65159, Test acc: 60.86%\n",
      "Epoch: 600 | Loss: 0.64745, Accuracy: 61.65% | Test loss: 0.64921, Test acc: 61.09%\n",
      "Epoch: 700 | Loss: 0.64505, Accuracy: 61.87% | Test loss: 0.64690, Test acc: 61.29%\n",
      "Epoch: 800 | Loss: 0.64268, Accuracy: 62.32% | Test loss: 0.64459, Test acc: 61.86%\n",
      "Epoch: 900 | Loss: 0.64035, Accuracy: 62.78% | Test loss: 0.64232, Test acc: 62.31%\n"
     ]
    }
   ],
   "source": [
    "torch.manual_seed(42)\n",
    "\n",
    "# Set the number of epochs\n",
    "epochs = 1000\n",
    "\n",
    "# Put data to target device\n",
    "X_train, y_train = X_train.to(device), y_train.to(device)\n",
    "X_test, y_test = X_test.to(device), y_test.to(device)\n",
    "\n",
    "loss_list = []\n",
    "# Build training and evaluation loop\n",
    "for epoch in range(epochs):\n",
    "    ### Training\n",
    "    LoanModel.train()\n",
    "\n",
    "    # 1. Forward pass (model outputs raw logits)\n",
    "    y_logits = LoanModel(X_train).squeeze() # squeeze to remove extra `1` dimensions, this won't work unless model and data are on same device \n",
    "    y_pred = torch.round(torch.sigmoid(y_logits)) # turn logits -> pred probs -> pred labls\n",
    "  \n",
    "    # 2. Calculate loss/accuracy\n",
    "    loss = loss_fn(torch.sigmoid(y_logits), # Using nn.BCELoss you need torch.sigmoid()\n",
    "                   y_train) \n",
    "    loss_list.append(loss.item())\n",
    "    acc = accuracy_fn(y_true=y_train, \n",
    "                      y_pred=y_pred) \n",
    "\n",
    "    # 3. Optimizer zero grad\n",
    "    optimizer.zero_grad()\n",
    "\n",
    "    # 4. Loss backwards\n",
    "    loss.backward()\n",
    "\n",
    "    # 5. Optimizer step\n",
    "    optimizer.step()\n",
    "\n",
    "    ### Testing\n",
    "    LoanModel.eval()\n",
    "    with torch.inference_mode():\n",
    "        # 1. Forward pass\n",
    "        test_logits = LoanModel(X_test).squeeze() \n",
    "        test_pred = torch.round(torch.sigmoid(test_logits))\n",
    "        # 2. Caculate loss/accuracy\n",
    "        test_loss = loss_fn(torch.sigmoid(test_logits),\n",
    "                            y_test)\n",
    "        test_acc = accuracy_fn(y_true=y_test,\n",
    "                               y_pred=test_pred)\n",
    "\n",
    "    # Print out what's happening every 10 epochs\n",
    "    if epoch % 100 == 0:\n",
    "        print(f\"Epoch: {epoch} | Loss: {loss:.5f}, Accuracy: {acc:.2f}% | Test loss: {test_loss:.5f}, Test acc: {test_acc:.2f}%\")"
   ]
  },
  {
   "cell_type": "code",
   "execution_count": 10,
   "id": "87deef47-b04c-4325-a2e9-9a26bc7fd3aa",
   "metadata": {},
   "outputs": [
    {
     "data": {
      "text/plain": [
       "[<matplotlib.lines.Line2D at 0x1b2611b73e0>]"
      ]
     },
     "execution_count": 10,
     "metadata": {},
     "output_type": "execute_result"
    },
    {
     "data": {
      "image/png": "[encoded data removed]",
      "text/plain": [
       "<Figure size 640x480 with 1 Axes>"
      ]
     },
     "metadata": {},
     "output_type": "display_data"
    }
   ],
   "source": [
    "plt.plot(loss_list)"
   ]
  },
  {
   "cell_type": "markdown",
   "id": "6faa149a-da9d-4501-83ad-d465c7755bb8",
   "metadata": {},
   "source": [
    "### 4. Save the trained model"
   ]
  },
  {
   "cell_type": "code",
   "execution_count": 11,
   "id": "246b893b-cd01-43da-b036-7d65776c9473",
   "metadata": {},
   "outputs": [],
   "source": [
    "torch.save(LoanModel.state_dict(), 'trained_loan_model_v0122.pth')"
   ]
  }
 ],
 "metadata": {
  "kernelspec": {
   "display_name": "Python 3 (ipykernel)",
   "language": "python",
   "name": "python3"
  },
  "language_info": {
   "codemirror_mode": {
    "name": "ipython",
    "version": 3
   },
   "file_extension": ".py",
   "mimetype": "text/x-python",
   "name": "python",
   "nbconvert_exporter": "python",
   "pygments_lexer": "ipython3",
   "version": "3.12.8"
  }
 },
 "nbformat": 4,
 "nbformat_minor": 5
}
